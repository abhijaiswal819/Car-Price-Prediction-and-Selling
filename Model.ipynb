{
 "cells": [
  {
   "cell_type": "code",
   "execution_count": 1,
   "metadata": {},
   "outputs": [],
   "source": [
    "import pandas as pd\n",
    "import numpy as np\n",
    "import matplotlib.pyplot as plt\n",
    "import matplotlib as mpl\n",
    "%matplotlib inline\n",
    "mpl.style.use('ggplot')"
   ]
  },
  {
   "cell_type": "code",
   "execution_count": 2,
   "metadata": {},
   "outputs": [],
   "source": [
    "car=pd.read_csv('CarDataset.csv')"
   ]
  },
  {
   "cell_type": "code",
   "execution_count": 3,
   "metadata": {},
   "outputs": [
    {
     "data": {
      "text/html": [
       "<div>\n",
       "<style scoped>\n",
       "    .dataframe tbody tr th:only-of-type {\n",
       "        vertical-align: middle;\n",
       "    }\n",
       "\n",
       "    .dataframe tbody tr th {\n",
       "        vertical-align: top;\n",
       "    }\n",
       "\n",
       "    .dataframe thead th {\n",
       "        text-align: right;\n",
       "    }\n",
       "</style>\n",
       "<table border=\"1\" class=\"dataframe\">\n",
       "  <thead>\n",
       "    <tr style=\"text-align: right;\">\n",
       "      <th></th>\n",
       "      <th>Model</th>\n",
       "      <th>Company</th>\n",
       "      <th>Location</th>\n",
       "      <th>Year</th>\n",
       "      <th>Kilometers_Driven</th>\n",
       "      <th>Fuel_Type</th>\n",
       "      <th>Transmission</th>\n",
       "      <th>Owner_Type</th>\n",
       "      <th>Mileage</th>\n",
       "      <th>Engine</th>\n",
       "      <th>Power</th>\n",
       "      <th>Seats</th>\n",
       "      <th>Price</th>\n",
       "    </tr>\n",
       "  </thead>\n",
       "  <tbody>\n",
       "    <tr>\n",
       "      <th>0</th>\n",
       "      <td>Maruti Wagon R LXI CNG</td>\n",
       "      <td>Maruti Wagon R LXI CNG</td>\n",
       "      <td>Mumbai</td>\n",
       "      <td>2010</td>\n",
       "      <td>72000</td>\n",
       "      <td>CNG</td>\n",
       "      <td>Manual</td>\n",
       "      <td>First</td>\n",
       "      <td>26.6 km/kg</td>\n",
       "      <td>998 CC</td>\n",
       "      <td>58.16 bhp</td>\n",
       "      <td>5</td>\n",
       "      <td>1.75</td>\n",
       "    </tr>\n",
       "    <tr>\n",
       "      <th>1</th>\n",
       "      <td>Hyundai Creta 1.6 CRDi SX Option</td>\n",
       "      <td>Hyundai Creta 1.6 CRDi SX Option</td>\n",
       "      <td>Pune</td>\n",
       "      <td>2015</td>\n",
       "      <td>41000</td>\n",
       "      <td>Diesel</td>\n",
       "      <td>Manual</td>\n",
       "      <td>First</td>\n",
       "      <td>19.67 kmpl</td>\n",
       "      <td>1582 CC</td>\n",
       "      <td>126.2 bhp</td>\n",
       "      <td>5</td>\n",
       "      <td>12.50</td>\n",
       "    </tr>\n",
       "    <tr>\n",
       "      <th>2</th>\n",
       "      <td>Honda Jazz V</td>\n",
       "      <td>Honda Jazz V</td>\n",
       "      <td>Chennai</td>\n",
       "      <td>2011</td>\n",
       "      <td>46000</td>\n",
       "      <td>Petrol</td>\n",
       "      <td>Manual</td>\n",
       "      <td>First</td>\n",
       "      <td>18.2 kmpl</td>\n",
       "      <td>1199 CC</td>\n",
       "      <td>88.7 bhp</td>\n",
       "      <td>5</td>\n",
       "      <td>4.50</td>\n",
       "    </tr>\n",
       "    <tr>\n",
       "      <th>3</th>\n",
       "      <td>Maruti Ertiga VDI</td>\n",
       "      <td>Maruti Ertiga VDI</td>\n",
       "      <td>Chennai</td>\n",
       "      <td>2012</td>\n",
       "      <td>87000</td>\n",
       "      <td>Diesel</td>\n",
       "      <td>Manual</td>\n",
       "      <td>First</td>\n",
       "      <td>20.77 kmpl</td>\n",
       "      <td>1248 CC</td>\n",
       "      <td>88.76 bhp</td>\n",
       "      <td>7</td>\n",
       "      <td>6.00</td>\n",
       "    </tr>\n",
       "    <tr>\n",
       "      <th>4</th>\n",
       "      <td>Audi A4 New 2.0 TDI Multitronic</td>\n",
       "      <td>Audi A4 New 2.0 TDI Multitronic</td>\n",
       "      <td>Coimbatore</td>\n",
       "      <td>2013</td>\n",
       "      <td>40670</td>\n",
       "      <td>Diesel</td>\n",
       "      <td>Automatic</td>\n",
       "      <td>Second</td>\n",
       "      <td>15.2 kmpl</td>\n",
       "      <td>1968 CC</td>\n",
       "      <td>140.8 bhp</td>\n",
       "      <td>5</td>\n",
       "      <td>17.74</td>\n",
       "    </tr>\n",
       "  </tbody>\n",
       "</table>\n",
       "</div>"
      ],
      "text/plain": [
       "                              Model                           Company  \\\n",
       "0            Maruti Wagon R LXI CNG            Maruti Wagon R LXI CNG   \n",
       "1  Hyundai Creta 1.6 CRDi SX Option  Hyundai Creta 1.6 CRDi SX Option   \n",
       "2                      Honda Jazz V                      Honda Jazz V   \n",
       "3                 Maruti Ertiga VDI                 Maruti Ertiga VDI   \n",
       "4   Audi A4 New 2.0 TDI Multitronic   Audi A4 New 2.0 TDI Multitronic   \n",
       "\n",
       "     Location  Year  Kilometers_Driven Fuel_Type Transmission Owner_Type  \\\n",
       "0      Mumbai  2010              72000       CNG       Manual      First   \n",
       "1        Pune  2015              41000    Diesel       Manual      First   \n",
       "2     Chennai  2011              46000    Petrol       Manual      First   \n",
       "3     Chennai  2012              87000    Diesel       Manual      First   \n",
       "4  Coimbatore  2013              40670    Diesel    Automatic     Second   \n",
       "\n",
       "      Mileage   Engine      Power  Seats  Price  \n",
       "0  26.6 km/kg   998 CC  58.16 bhp      5   1.75  \n",
       "1  19.67 kmpl  1582 CC  126.2 bhp      5  12.50  \n",
       "2   18.2 kmpl  1199 CC   88.7 bhp      5   4.50  \n",
       "3  20.77 kmpl  1248 CC  88.76 bhp      7   6.00  \n",
       "4   15.2 kmpl  1968 CC  140.8 bhp      5  17.74  "
      ]
     },
     "execution_count": 3,
     "metadata": {},
     "output_type": "execute_result"
    }
   ],
   "source": [
    "car.head()"
   ]
  },
  {
   "cell_type": "code",
   "execution_count": 4,
   "metadata": {},
   "outputs": [
    {
     "data": {
      "text/plain": [
       "(6019, 13)"
      ]
     },
     "execution_count": 4,
     "metadata": {},
     "output_type": "execute_result"
    }
   ],
   "source": [
    "car.shape"
   ]
  },
  {
   "cell_type": "code",
   "execution_count": 5,
   "metadata": {},
   "outputs": [
    {
     "name": "stdout",
     "output_type": "stream",
     "text": [
      "<class 'pandas.core.frame.DataFrame'>\n",
      "RangeIndex: 6019 entries, 0 to 6018\n",
      "Data columns (total 13 columns):\n",
      " #   Column             Non-Null Count  Dtype  \n",
      "---  ------             --------------  -----  \n",
      " 0   Model              6019 non-null   object \n",
      " 1   Company            6019 non-null   object \n",
      " 2   Location           6019 non-null   object \n",
      " 3   Year               6019 non-null   int64  \n",
      " 4   Kilometers_Driven  6019 non-null   int64  \n",
      " 5   Fuel_Type          6019 non-null   object \n",
      " 6   Transmission       6019 non-null   object \n",
      " 7   Owner_Type         6019 non-null   object \n",
      " 8   Mileage            6019 non-null   object \n",
      " 9   Engine             6019 non-null   object \n",
      " 10  Power              6019 non-null   object \n",
      " 11  Seats              6019 non-null   int64  \n",
      " 12  Price              6019 non-null   float64\n",
      "dtypes: float64(1), int64(3), object(9)\n",
      "memory usage: 611.4+ KB\n"
     ]
    }
   ],
   "source": [
    "car.info()"
   ]
  },
  {
   "cell_type": "markdown",
   "metadata": {},
   "source": [
    "##### Creating backup copy"
   ]
  },
  {
   "cell_type": "code",
   "execution_count": 6,
   "metadata": {},
   "outputs": [],
   "source": [
    "backup=car.copy()"
   ]
  },
  {
   "cell_type": "markdown",
   "metadata": {},
   "source": [
    "## Quality\n",
    "\n",
    "- names are pretty inconsistent\n",
    "- names have company names attached to it\n",
    "- some names are spam like 'Maruti Ertiga showroom condition with' and 'Well mentained Tata Sumo'\n",
    "- company: many of the names are not of any company like 'Used', 'URJENT', and so on.\n",
    "- year has many non-year values\n",
    "- year is in object. Change to integer\n",
    "- Price has Ask for Price\n",
    "- Price has commas in its prices and is in object\n",
    "- kms_driven has object values with kms at last.\n",
    "- It has nan values and two rows have 'Petrol' in them\n",
    "- fuel_type has nan values"
   ]
  },
  {
   "cell_type": "markdown",
   "metadata": {},
   "source": [
    "## Cleaning Data "
   ]
  },
  {
   "cell_type": "markdown",
   "metadata": {},
   "source": [
    "#### Changing Model names. Removing first word keeping rest as it is."
   ]
  },
  {
   "cell_type": "code",
   "execution_count": 7,
   "metadata": {},
   "outputs": [],
   "source": [
    "car['Model']=car['Model'].str.split().str.slice(start=0,stop=3).str.join(' ')"
   ]
  },
  {
   "cell_type": "markdown",
   "metadata": {},
   "source": [
    "#### Changing Company names. Except first word removing rest of it."
   ]
  },
  {
   "cell_type": "code",
   "execution_count": 8,
   "metadata": {},
   "outputs": [],
   "source": [
    "car['Company']=car['Company'].str.split().str.get(0)"
   ]
  },
  {
   "cell_type": "markdown",
   "metadata": {},
   "source": [
    "#### Year is in integer. Change to float"
   ]
  },
  {
   "cell_type": "code",
   "execution_count": 9,
   "metadata": {},
   "outputs": [],
   "source": [
    "car['Year']=car['Year'].astype(int)"
   ]
  },
  {
   "cell_type": "markdown",
   "metadata": {},
   "source": [
    "#### Kilometers_Driven is in integer. Change to float"
   ]
  },
  {
   "cell_type": "code",
   "execution_count": 10,
   "metadata": {},
   "outputs": [],
   "source": [
    "car['Kilometers_Driven']=car['Kilometers_Driven'].astype(float)"
   ]
  },
  {
   "cell_type": "markdown",
   "metadata": {},
   "source": [
    "#### In Mileage except number removing rest of it. Also changing it to float"
   ]
  },
  {
   "cell_type": "code",
   "execution_count": 11,
   "metadata": {},
   "outputs": [],
   "source": [
    "car['Mileage']=car['Mileage'].apply(str).str.split().str.get(0).astype(float)"
   ]
  },
  {
   "cell_type": "markdown",
   "metadata": {},
   "source": [
    "#### In Engine except number removing rest of it. Also changing it to float"
   ]
  },
  {
   "cell_type": "code",
   "execution_count": 12,
   "metadata": {},
   "outputs": [],
   "source": [
    "car['Engine']=car['Engine'].apply(str).str.split().str.get(0).astype(float)"
   ]
  },
  {
   "cell_type": "code",
   "execution_count": 13,
   "metadata": {},
   "outputs": [],
   "source": [
    "car=car[car['Engine']!='NaN']"
   ]
  },
  {
   "cell_type": "markdown",
   "metadata": {},
   "source": [
    "#### Power has Null value. Removing it."
   ]
  },
  {
   "cell_type": "code",
   "execution_count": 14,
   "metadata": {},
   "outputs": [],
   "source": [
    "car=car[car['Power']!='null bhp']"
   ]
  },
  {
   "cell_type": "markdown",
   "metadata": {},
   "source": [
    "#### In Power except number removing rest of it. Also changing it to float"
   ]
  },
  {
   "cell_type": "code",
   "execution_count": 15,
   "metadata": {},
   "outputs": [],
   "source": [
    "car['Power']=car['Power'].apply(str).str.split().str.get(0).astype(float)"
   ]
  },
  {
   "cell_type": "code",
   "execution_count": 16,
   "metadata": {},
   "outputs": [],
   "source": [
    "car=car[car['Power']!='NaN']"
   ]
  },
  {
   "cell_type": "markdown",
   "metadata": {},
   "source": [
    "#### Seat has nan value. Removing it."
   ]
  },
  {
   "cell_type": "code",
   "execution_count": 17,
   "metadata": {},
   "outputs": [],
   "source": [
    "car=car[car['Seats']!='NaN']"
   ]
  },
  {
   "cell_type": "code",
   "execution_count": 18,
   "metadata": {},
   "outputs": [],
   "source": [
    "#car=car[car['Seats'].str.isnumeric()]\n",
    "car['Seats']=car['Seats'].astype(int)\n"
   ]
  },
  {
   "cell_type": "markdown",
   "metadata": {},
   "source": [
    "#### Resetting the index of the final cleaned data"
   ]
  },
  {
   "cell_type": "code",
   "execution_count": 19,
   "metadata": {},
   "outputs": [],
   "source": [
    "car=car.reset_index(drop=True)"
   ]
  },
  {
   "cell_type": "markdown",
   "metadata": {},
   "source": [
    "## Cleaned Data"
   ]
  },
  {
   "cell_type": "code",
   "execution_count": 20,
   "metadata": {},
   "outputs": [
    {
     "data": {
      "text/html": [
       "<div>\n",
       "<style scoped>\n",
       "    .dataframe tbody tr th:only-of-type {\n",
       "        vertical-align: middle;\n",
       "    }\n",
       "\n",
       "    .dataframe tbody tr th {\n",
       "        vertical-align: top;\n",
       "    }\n",
       "\n",
       "    .dataframe thead th {\n",
       "        text-align: right;\n",
       "    }\n",
       "</style>\n",
       "<table border=\"1\" class=\"dataframe\">\n",
       "  <thead>\n",
       "    <tr style=\"text-align: right;\">\n",
       "      <th></th>\n",
       "      <th>Model</th>\n",
       "      <th>Company</th>\n",
       "      <th>Location</th>\n",
       "      <th>Year</th>\n",
       "      <th>Kilometers_Driven</th>\n",
       "      <th>Fuel_Type</th>\n",
       "      <th>Transmission</th>\n",
       "      <th>Owner_Type</th>\n",
       "      <th>Mileage</th>\n",
       "      <th>Engine</th>\n",
       "      <th>Power</th>\n",
       "      <th>Seats</th>\n",
       "      <th>Price</th>\n",
       "    </tr>\n",
       "  </thead>\n",
       "  <tbody>\n",
       "    <tr>\n",
       "      <th>0</th>\n",
       "      <td>Maruti Wagon R</td>\n",
       "      <td>Maruti</td>\n",
       "      <td>Mumbai</td>\n",
       "      <td>2010</td>\n",
       "      <td>72000.0</td>\n",
       "      <td>CNG</td>\n",
       "      <td>Manual</td>\n",
       "      <td>First</td>\n",
       "      <td>26.60</td>\n",
       "      <td>998.0</td>\n",
       "      <td>58.16</td>\n",
       "      <td>5</td>\n",
       "      <td>1.75</td>\n",
       "    </tr>\n",
       "    <tr>\n",
       "      <th>1</th>\n",
       "      <td>Hyundai Creta 1.6</td>\n",
       "      <td>Hyundai</td>\n",
       "      <td>Pune</td>\n",
       "      <td>2015</td>\n",
       "      <td>41000.0</td>\n",
       "      <td>Diesel</td>\n",
       "      <td>Manual</td>\n",
       "      <td>First</td>\n",
       "      <td>19.67</td>\n",
       "      <td>1582.0</td>\n",
       "      <td>126.20</td>\n",
       "      <td>5</td>\n",
       "      <td>12.50</td>\n",
       "    </tr>\n",
       "    <tr>\n",
       "      <th>2</th>\n",
       "      <td>Honda Jazz V</td>\n",
       "      <td>Honda</td>\n",
       "      <td>Chennai</td>\n",
       "      <td>2011</td>\n",
       "      <td>46000.0</td>\n",
       "      <td>Petrol</td>\n",
       "      <td>Manual</td>\n",
       "      <td>First</td>\n",
       "      <td>18.20</td>\n",
       "      <td>1199.0</td>\n",
       "      <td>88.70</td>\n",
       "      <td>5</td>\n",
       "      <td>4.50</td>\n",
       "    </tr>\n",
       "    <tr>\n",
       "      <th>3</th>\n",
       "      <td>Maruti Ertiga VDI</td>\n",
       "      <td>Maruti</td>\n",
       "      <td>Chennai</td>\n",
       "      <td>2012</td>\n",
       "      <td>87000.0</td>\n",
       "      <td>Diesel</td>\n",
       "      <td>Manual</td>\n",
       "      <td>First</td>\n",
       "      <td>20.77</td>\n",
       "      <td>1248.0</td>\n",
       "      <td>88.76</td>\n",
       "      <td>7</td>\n",
       "      <td>6.00</td>\n",
       "    </tr>\n",
       "    <tr>\n",
       "      <th>4</th>\n",
       "      <td>Audi A4 New</td>\n",
       "      <td>Audi</td>\n",
       "      <td>Coimbatore</td>\n",
       "      <td>2013</td>\n",
       "      <td>40670.0</td>\n",
       "      <td>Diesel</td>\n",
       "      <td>Automatic</td>\n",
       "      <td>Second</td>\n",
       "      <td>15.20</td>\n",
       "      <td>1968.0</td>\n",
       "      <td>140.80</td>\n",
       "      <td>5</td>\n",
       "      <td>17.74</td>\n",
       "    </tr>\n",
       "    <tr>\n",
       "      <th>...</th>\n",
       "      <td>...</td>\n",
       "      <td>...</td>\n",
       "      <td>...</td>\n",
       "      <td>...</td>\n",
       "      <td>...</td>\n",
       "      <td>...</td>\n",
       "      <td>...</td>\n",
       "      <td>...</td>\n",
       "      <td>...</td>\n",
       "      <td>...</td>\n",
       "      <td>...</td>\n",
       "      <td>...</td>\n",
       "      <td>...</td>\n",
       "    </tr>\n",
       "    <tr>\n",
       "      <th>6014</th>\n",
       "      <td>Maruti Swift VDI</td>\n",
       "      <td>Maruti</td>\n",
       "      <td>Delhi</td>\n",
       "      <td>2014</td>\n",
       "      <td>27365.0</td>\n",
       "      <td>Diesel</td>\n",
       "      <td>Manual</td>\n",
       "      <td>First</td>\n",
       "      <td>28.40</td>\n",
       "      <td>1248.0</td>\n",
       "      <td>74.00</td>\n",
       "      <td>5</td>\n",
       "      <td>4.75</td>\n",
       "    </tr>\n",
       "    <tr>\n",
       "      <th>6015</th>\n",
       "      <td>Hyundai Xcent 1.1</td>\n",
       "      <td>Hyundai</td>\n",
       "      <td>Jaipur</td>\n",
       "      <td>2015</td>\n",
       "      <td>100000.0</td>\n",
       "      <td>Diesel</td>\n",
       "      <td>Manual</td>\n",
       "      <td>First</td>\n",
       "      <td>24.40</td>\n",
       "      <td>1120.0</td>\n",
       "      <td>71.00</td>\n",
       "      <td>5</td>\n",
       "      <td>4.00</td>\n",
       "    </tr>\n",
       "    <tr>\n",
       "      <th>6016</th>\n",
       "      <td>Mahindra Xylo D4</td>\n",
       "      <td>Mahindra</td>\n",
       "      <td>Jaipur</td>\n",
       "      <td>2012</td>\n",
       "      <td>55000.0</td>\n",
       "      <td>Diesel</td>\n",
       "      <td>Manual</td>\n",
       "      <td>Second</td>\n",
       "      <td>14.00</td>\n",
       "      <td>2498.0</td>\n",
       "      <td>112.00</td>\n",
       "      <td>8</td>\n",
       "      <td>2.90</td>\n",
       "    </tr>\n",
       "    <tr>\n",
       "      <th>6017</th>\n",
       "      <td>Maruti Wagon R</td>\n",
       "      <td>Maruti</td>\n",
       "      <td>Kolkata</td>\n",
       "      <td>2013</td>\n",
       "      <td>46000.0</td>\n",
       "      <td>Petrol</td>\n",
       "      <td>Manual</td>\n",
       "      <td>First</td>\n",
       "      <td>18.90</td>\n",
       "      <td>998.0</td>\n",
       "      <td>67.10</td>\n",
       "      <td>5</td>\n",
       "      <td>2.65</td>\n",
       "    </tr>\n",
       "    <tr>\n",
       "      <th>6018</th>\n",
       "      <td>Chevrolet Beat Diesel</td>\n",
       "      <td>Chevrolet</td>\n",
       "      <td>Hyderabad</td>\n",
       "      <td>2011</td>\n",
       "      <td>47000.0</td>\n",
       "      <td>Diesel</td>\n",
       "      <td>Manual</td>\n",
       "      <td>First</td>\n",
       "      <td>25.44</td>\n",
       "      <td>936.0</td>\n",
       "      <td>57.60</td>\n",
       "      <td>5</td>\n",
       "      <td>2.50</td>\n",
       "    </tr>\n",
       "  </tbody>\n",
       "</table>\n",
       "<p>6019 rows × 13 columns</p>\n",
       "</div>"
      ],
      "text/plain": [
       "                      Model    Company    Location  Year  Kilometers_Driven  \\\n",
       "0            Maruti Wagon R     Maruti      Mumbai  2010            72000.0   \n",
       "1         Hyundai Creta 1.6    Hyundai        Pune  2015            41000.0   \n",
       "2              Honda Jazz V      Honda     Chennai  2011            46000.0   \n",
       "3         Maruti Ertiga VDI     Maruti     Chennai  2012            87000.0   \n",
       "4               Audi A4 New       Audi  Coimbatore  2013            40670.0   \n",
       "...                     ...        ...         ...   ...                ...   \n",
       "6014       Maruti Swift VDI     Maruti       Delhi  2014            27365.0   \n",
       "6015      Hyundai Xcent 1.1    Hyundai      Jaipur  2015           100000.0   \n",
       "6016       Mahindra Xylo D4   Mahindra      Jaipur  2012            55000.0   \n",
       "6017         Maruti Wagon R     Maruti     Kolkata  2013            46000.0   \n",
       "6018  Chevrolet Beat Diesel  Chevrolet   Hyderabad  2011            47000.0   \n",
       "\n",
       "     Fuel_Type Transmission Owner_Type  Mileage  Engine   Power  Seats  Price  \n",
       "0          CNG       Manual      First    26.60   998.0   58.16      5   1.75  \n",
       "1       Diesel       Manual      First    19.67  1582.0  126.20      5  12.50  \n",
       "2       Petrol       Manual      First    18.20  1199.0   88.70      5   4.50  \n",
       "3       Diesel       Manual      First    20.77  1248.0   88.76      7   6.00  \n",
       "4       Diesel    Automatic     Second    15.20  1968.0  140.80      5  17.74  \n",
       "...        ...          ...        ...      ...     ...     ...    ...    ...  \n",
       "6014    Diesel       Manual      First    28.40  1248.0   74.00      5   4.75  \n",
       "6015    Diesel       Manual      First    24.40  1120.0   71.00      5   4.00  \n",
       "6016    Diesel       Manual     Second    14.00  2498.0  112.00      8   2.90  \n",
       "6017    Petrol       Manual      First    18.90   998.0   67.10      5   2.65  \n",
       "6018    Diesel       Manual      First    25.44   936.0   57.60      5   2.50  \n",
       "\n",
       "[6019 rows x 13 columns]"
      ]
     },
     "execution_count": 20,
     "metadata": {},
     "output_type": "execute_result"
    }
   ],
   "source": [
    "car"
   ]
  },
  {
   "cell_type": "code",
   "execution_count": 21,
   "metadata": {},
   "outputs": [
    {
     "data": {
      "text/html": [
       "<div>\n",
       "<style scoped>\n",
       "    .dataframe tbody tr th:only-of-type {\n",
       "        vertical-align: middle;\n",
       "    }\n",
       "\n",
       "    .dataframe tbody tr th {\n",
       "        vertical-align: top;\n",
       "    }\n",
       "\n",
       "    .dataframe thead th {\n",
       "        text-align: right;\n",
       "    }\n",
       "</style>\n",
       "<table border=\"1\" class=\"dataframe\">\n",
       "  <thead>\n",
       "    <tr style=\"text-align: right;\">\n",
       "      <th></th>\n",
       "      <th>Model</th>\n",
       "      <th>Company</th>\n",
       "      <th>Location</th>\n",
       "      <th>Year</th>\n",
       "      <th>Kilometers_Driven</th>\n",
       "      <th>Fuel_Type</th>\n",
       "      <th>Transmission</th>\n",
       "      <th>Owner_Type</th>\n",
       "      <th>Mileage</th>\n",
       "      <th>Engine</th>\n",
       "      <th>Power</th>\n",
       "      <th>Seats</th>\n",
       "      <th>Price</th>\n",
       "    </tr>\n",
       "  </thead>\n",
       "  <tbody>\n",
       "    <tr>\n",
       "      <th>count</th>\n",
       "      <td>6019</td>\n",
       "      <td>6019</td>\n",
       "      <td>6019</td>\n",
       "      <td>6019.000000</td>\n",
       "      <td>6.019000e+03</td>\n",
       "      <td>6019</td>\n",
       "      <td>6019</td>\n",
       "      <td>6019</td>\n",
       "      <td>6019.000000</td>\n",
       "      <td>6019.000000</td>\n",
       "      <td>6019.000000</td>\n",
       "      <td>6019.000000</td>\n",
       "      <td>6019.000000</td>\n",
       "    </tr>\n",
       "    <tr>\n",
       "      <th>unique</th>\n",
       "      <td>689</td>\n",
       "      <td>30</td>\n",
       "      <td>11</td>\n",
       "      <td>NaN</td>\n",
       "      <td>NaN</td>\n",
       "      <td>5</td>\n",
       "      <td>2</td>\n",
       "      <td>4</td>\n",
       "      <td>NaN</td>\n",
       "      <td>NaN</td>\n",
       "      <td>NaN</td>\n",
       "      <td>NaN</td>\n",
       "      <td>NaN</td>\n",
       "    </tr>\n",
       "    <tr>\n",
       "      <th>top</th>\n",
       "      <td>Maruti Wagon R</td>\n",
       "      <td>Maruti</td>\n",
       "      <td>Mumbai</td>\n",
       "      <td>NaN</td>\n",
       "      <td>NaN</td>\n",
       "      <td>Diesel</td>\n",
       "      <td>Manual</td>\n",
       "      <td>First</td>\n",
       "      <td>NaN</td>\n",
       "      <td>NaN</td>\n",
       "      <td>NaN</td>\n",
       "      <td>NaN</td>\n",
       "      <td>NaN</td>\n",
       "    </tr>\n",
       "    <tr>\n",
       "      <th>freq</th>\n",
       "      <td>154</td>\n",
       "      <td>1211</td>\n",
       "      <td>790</td>\n",
       "      <td>NaN</td>\n",
       "      <td>NaN</td>\n",
       "      <td>3205</td>\n",
       "      <td>4299</td>\n",
       "      <td>4929</td>\n",
       "      <td>NaN</td>\n",
       "      <td>NaN</td>\n",
       "      <td>NaN</td>\n",
       "      <td>NaN</td>\n",
       "      <td>NaN</td>\n",
       "    </tr>\n",
       "    <tr>\n",
       "      <th>mean</th>\n",
       "      <td>NaN</td>\n",
       "      <td>NaN</td>\n",
       "      <td>NaN</td>\n",
       "      <td>2013.358199</td>\n",
       "      <td>5.873838e+04</td>\n",
       "      <td>NaN</td>\n",
       "      <td>NaN</td>\n",
       "      <td>NaN</td>\n",
       "      <td>18.134526</td>\n",
       "      <td>1621.019438</td>\n",
       "      <td>112.848262</td>\n",
       "      <td>5.278618</td>\n",
       "      <td>9.479468</td>\n",
       "    </tr>\n",
       "    <tr>\n",
       "      <th>std</th>\n",
       "      <td>NaN</td>\n",
       "      <td>NaN</td>\n",
       "      <td>NaN</td>\n",
       "      <td>3.269742</td>\n",
       "      <td>9.126884e+04</td>\n",
       "      <td>NaN</td>\n",
       "      <td>NaN</td>\n",
       "      <td>NaN</td>\n",
       "      <td>4.582253</td>\n",
       "      <td>601.233576</td>\n",
       "      <td>53.601645</td>\n",
       "      <td>0.806850</td>\n",
       "      <td>11.187917</td>\n",
       "    </tr>\n",
       "    <tr>\n",
       "      <th>min</th>\n",
       "      <td>NaN</td>\n",
       "      <td>NaN</td>\n",
       "      <td>NaN</td>\n",
       "      <td>1998.000000</td>\n",
       "      <td>1.710000e+02</td>\n",
       "      <td>NaN</td>\n",
       "      <td>NaN</td>\n",
       "      <td>NaN</td>\n",
       "      <td>0.000000</td>\n",
       "      <td>72.000000</td>\n",
       "      <td>34.200000</td>\n",
       "      <td>2.000000</td>\n",
       "      <td>0.440000</td>\n",
       "    </tr>\n",
       "    <tr>\n",
       "      <th>25%</th>\n",
       "      <td>NaN</td>\n",
       "      <td>NaN</td>\n",
       "      <td>NaN</td>\n",
       "      <td>2011.000000</td>\n",
       "      <td>3.400000e+04</td>\n",
       "      <td>NaN</td>\n",
       "      <td>NaN</td>\n",
       "      <td>NaN</td>\n",
       "      <td>15.170000</td>\n",
       "      <td>1198.000000</td>\n",
       "      <td>77.000000</td>\n",
       "      <td>5.000000</td>\n",
       "      <td>3.500000</td>\n",
       "    </tr>\n",
       "    <tr>\n",
       "      <th>50%</th>\n",
       "      <td>NaN</td>\n",
       "      <td>NaN</td>\n",
       "      <td>NaN</td>\n",
       "      <td>2014.000000</td>\n",
       "      <td>5.300000e+04</td>\n",
       "      <td>NaN</td>\n",
       "      <td>NaN</td>\n",
       "      <td>NaN</td>\n",
       "      <td>18.150000</td>\n",
       "      <td>1493.000000</td>\n",
       "      <td>92.000000</td>\n",
       "      <td>5.000000</td>\n",
       "      <td>5.640000</td>\n",
       "    </tr>\n",
       "    <tr>\n",
       "      <th>75%</th>\n",
       "      <td>NaN</td>\n",
       "      <td>NaN</td>\n",
       "      <td>NaN</td>\n",
       "      <td>2016.000000</td>\n",
       "      <td>7.300000e+04</td>\n",
       "      <td>NaN</td>\n",
       "      <td>NaN</td>\n",
       "      <td>NaN</td>\n",
       "      <td>21.100000</td>\n",
       "      <td>1984.000000</td>\n",
       "      <td>138.100000</td>\n",
       "      <td>5.000000</td>\n",
       "      <td>9.950000</td>\n",
       "    </tr>\n",
       "    <tr>\n",
       "      <th>max</th>\n",
       "      <td>NaN</td>\n",
       "      <td>NaN</td>\n",
       "      <td>NaN</td>\n",
       "      <td>2019.000000</td>\n",
       "      <td>6.500000e+06</td>\n",
       "      <td>NaN</td>\n",
       "      <td>NaN</td>\n",
       "      <td>NaN</td>\n",
       "      <td>33.540000</td>\n",
       "      <td>5998.000000</td>\n",
       "      <td>560.000000</td>\n",
       "      <td>10.000000</td>\n",
       "      <td>160.000000</td>\n",
       "    </tr>\n",
       "  </tbody>\n",
       "</table>\n",
       "</div>"
      ],
      "text/plain": [
       "                 Model Company Location         Year  Kilometers_Driven  \\\n",
       "count             6019    6019     6019  6019.000000       6.019000e+03   \n",
       "unique             689      30       11          NaN                NaN   \n",
       "top     Maruti Wagon R  Maruti   Mumbai          NaN                NaN   \n",
       "freq               154    1211      790          NaN                NaN   \n",
       "mean               NaN     NaN      NaN  2013.358199       5.873838e+04   \n",
       "std                NaN     NaN      NaN     3.269742       9.126884e+04   \n",
       "min                NaN     NaN      NaN  1998.000000       1.710000e+02   \n",
       "25%                NaN     NaN      NaN  2011.000000       3.400000e+04   \n",
       "50%                NaN     NaN      NaN  2014.000000       5.300000e+04   \n",
       "75%                NaN     NaN      NaN  2016.000000       7.300000e+04   \n",
       "max                NaN     NaN      NaN  2019.000000       6.500000e+06   \n",
       "\n",
       "       Fuel_Type Transmission Owner_Type      Mileage       Engine  \\\n",
       "count       6019         6019       6019  6019.000000  6019.000000   \n",
       "unique         5            2          4          NaN          NaN   \n",
       "top       Diesel       Manual      First          NaN          NaN   \n",
       "freq        3205         4299       4929          NaN          NaN   \n",
       "mean         NaN          NaN        NaN    18.134526  1621.019438   \n",
       "std          NaN          NaN        NaN     4.582253   601.233576   \n",
       "min          NaN          NaN        NaN     0.000000    72.000000   \n",
       "25%          NaN          NaN        NaN    15.170000  1198.000000   \n",
       "50%          NaN          NaN        NaN    18.150000  1493.000000   \n",
       "75%          NaN          NaN        NaN    21.100000  1984.000000   \n",
       "max          NaN          NaN        NaN    33.540000  5998.000000   \n",
       "\n",
       "              Power        Seats        Price  \n",
       "count   6019.000000  6019.000000  6019.000000  \n",
       "unique          NaN          NaN          NaN  \n",
       "top             NaN          NaN          NaN  \n",
       "freq            NaN          NaN          NaN  \n",
       "mean     112.848262     5.278618     9.479468  \n",
       "std       53.601645     0.806850    11.187917  \n",
       "min       34.200000     2.000000     0.440000  \n",
       "25%       77.000000     5.000000     3.500000  \n",
       "50%       92.000000     5.000000     5.640000  \n",
       "75%      138.100000     5.000000     9.950000  \n",
       "max      560.000000    10.000000   160.000000  "
      ]
     },
     "execution_count": 21,
     "metadata": {},
     "output_type": "execute_result"
    }
   ],
   "source": [
    "car.describe(include='all')"
   ]
  },
  {
   "cell_type": "code",
   "execution_count": 22,
   "metadata": {},
   "outputs": [],
   "source": [
    "#car=car[car['Price']<121]"
   ]
  },
  {
   "cell_type": "code",
   "execution_count": 23,
   "metadata": {},
   "outputs": [],
   "source": [
    "car=car[car['Seats']<=8]"
   ]
  },
  {
   "cell_type": "code",
   "execution_count": 24,
   "metadata": {},
   "outputs": [],
   "source": [
    "#car=car[car['Engine']<4500]"
   ]
  },
  {
   "cell_type": "code",
   "execution_count": 25,
   "metadata": {},
   "outputs": [],
   "source": [
    "car=car.reset_index(drop=True)"
   ]
  },
  {
   "cell_type": "code",
   "execution_count": 26,
   "metadata": {},
   "outputs": [],
   "source": [
    "car.to_csv('Cleaned_CarDataset.csv')"
   ]
  },
  {
   "cell_type": "code",
   "execution_count": 27,
   "metadata": {},
   "outputs": [
    {
     "name": "stdout",
     "output_type": "stream",
     "text": [
      "<class 'pandas.core.frame.DataFrame'>\n",
      "RangeIndex: 6011 entries, 0 to 6010\n",
      "Data columns (total 13 columns):\n",
      " #   Column             Non-Null Count  Dtype  \n",
      "---  ------             --------------  -----  \n",
      " 0   Model              6011 non-null   object \n",
      " 1   Company            6011 non-null   object \n",
      " 2   Location           6011 non-null   object \n",
      " 3   Year               6011 non-null   int32  \n",
      " 4   Kilometers_Driven  6011 non-null   float64\n",
      " 5   Fuel_Type          6011 non-null   object \n",
      " 6   Transmission       6011 non-null   object \n",
      " 7   Owner_Type         6011 non-null   object \n",
      " 8   Mileage            6011 non-null   float64\n",
      " 9   Engine             6011 non-null   float64\n",
      " 10  Power              6011 non-null   float64\n",
      " 11  Seats              6011 non-null   int32  \n",
      " 12  Price              6011 non-null   float64\n",
      "dtypes: float64(5), int32(2), object(6)\n",
      "memory usage: 563.7+ KB\n"
     ]
    }
   ],
   "source": [
    "car.info()"
   ]
  },
  {
   "cell_type": "code",
   "execution_count": 28,
   "metadata": {},
   "outputs": [
    {
     "data": {
      "text/html": [
       "<div>\n",
       "<style scoped>\n",
       "    .dataframe tbody tr th:only-of-type {\n",
       "        vertical-align: middle;\n",
       "    }\n",
       "\n",
       "    .dataframe tbody tr th {\n",
       "        vertical-align: top;\n",
       "    }\n",
       "\n",
       "    .dataframe thead th {\n",
       "        text-align: right;\n",
       "    }\n",
       "</style>\n",
       "<table border=\"1\" class=\"dataframe\">\n",
       "  <thead>\n",
       "    <tr style=\"text-align: right;\">\n",
       "      <th></th>\n",
       "      <th>Model</th>\n",
       "      <th>Company</th>\n",
       "      <th>Location</th>\n",
       "      <th>Year</th>\n",
       "      <th>Kilometers_Driven</th>\n",
       "      <th>Fuel_Type</th>\n",
       "      <th>Transmission</th>\n",
       "      <th>Owner_Type</th>\n",
       "      <th>Mileage</th>\n",
       "      <th>Engine</th>\n",
       "      <th>Power</th>\n",
       "      <th>Seats</th>\n",
       "      <th>Price</th>\n",
       "    </tr>\n",
       "  </thead>\n",
       "  <tbody>\n",
       "    <tr>\n",
       "      <th>count</th>\n",
       "      <td>6011</td>\n",
       "      <td>6011</td>\n",
       "      <td>6011</td>\n",
       "      <td>6011.000000</td>\n",
       "      <td>6.011000e+03</td>\n",
       "      <td>6011</td>\n",
       "      <td>6011</td>\n",
       "      <td>6011</td>\n",
       "      <td>6011.000000</td>\n",
       "      <td>6011.000000</td>\n",
       "      <td>6011.000000</td>\n",
       "      <td>6011.000000</td>\n",
       "      <td>6011.000000</td>\n",
       "    </tr>\n",
       "    <tr>\n",
       "      <th>unique</th>\n",
       "      <td>684</td>\n",
       "      <td>30</td>\n",
       "      <td>11</td>\n",
       "      <td>NaN</td>\n",
       "      <td>NaN</td>\n",
       "      <td>5</td>\n",
       "      <td>2</td>\n",
       "      <td>4</td>\n",
       "      <td>NaN</td>\n",
       "      <td>NaN</td>\n",
       "      <td>NaN</td>\n",
       "      <td>NaN</td>\n",
       "      <td>NaN</td>\n",
       "    </tr>\n",
       "    <tr>\n",
       "      <th>top</th>\n",
       "      <td>Maruti Wagon R</td>\n",
       "      <td>Maruti</td>\n",
       "      <td>Mumbai</td>\n",
       "      <td>NaN</td>\n",
       "      <td>NaN</td>\n",
       "      <td>Diesel</td>\n",
       "      <td>Manual</td>\n",
       "      <td>First</td>\n",
       "      <td>NaN</td>\n",
       "      <td>NaN</td>\n",
       "      <td>NaN</td>\n",
       "      <td>NaN</td>\n",
       "      <td>NaN</td>\n",
       "    </tr>\n",
       "    <tr>\n",
       "      <th>freq</th>\n",
       "      <td>154</td>\n",
       "      <td>1211</td>\n",
       "      <td>789</td>\n",
       "      <td>NaN</td>\n",
       "      <td>NaN</td>\n",
       "      <td>3197</td>\n",
       "      <td>4291</td>\n",
       "      <td>4924</td>\n",
       "      <td>NaN</td>\n",
       "      <td>NaN</td>\n",
       "      <td>NaN</td>\n",
       "      <td>NaN</td>\n",
       "      <td>NaN</td>\n",
       "    </tr>\n",
       "    <tr>\n",
       "      <th>mean</th>\n",
       "      <td>NaN</td>\n",
       "      <td>NaN</td>\n",
       "      <td>NaN</td>\n",
       "      <td>2013.363833</td>\n",
       "      <td>5.868550e+04</td>\n",
       "      <td>NaN</td>\n",
       "      <td>NaN</td>\n",
       "      <td>NaN</td>\n",
       "      <td>18.142748</td>\n",
       "      <td>1620.018965</td>\n",
       "      <td>112.883196</td>\n",
       "      <td>5.272833</td>\n",
       "      <td>9.486303</td>\n",
       "    </tr>\n",
       "    <tr>\n",
       "      <th>std</th>\n",
       "      <td>NaN</td>\n",
       "      <td>NaN</td>\n",
       "      <td>NaN</td>\n",
       "      <td>3.262842</td>\n",
       "      <td>9.129409e+04</td>\n",
       "      <td>NaN</td>\n",
       "      <td>NaN</td>\n",
       "      <td>NaN</td>\n",
       "      <td>4.576666</td>\n",
       "      <td>600.972020</td>\n",
       "      <td>53.626316</td>\n",
       "      <td>0.791443</td>\n",
       "      <td>11.193759</td>\n",
       "    </tr>\n",
       "    <tr>\n",
       "      <th>min</th>\n",
       "      <td>NaN</td>\n",
       "      <td>NaN</td>\n",
       "      <td>NaN</td>\n",
       "      <td>1998.000000</td>\n",
       "      <td>1.710000e+02</td>\n",
       "      <td>NaN</td>\n",
       "      <td>NaN</td>\n",
       "      <td>NaN</td>\n",
       "      <td>0.000000</td>\n",
       "      <td>72.000000</td>\n",
       "      <td>34.200000</td>\n",
       "      <td>2.000000</td>\n",
       "      <td>0.440000</td>\n",
       "    </tr>\n",
       "    <tr>\n",
       "      <th>25%</th>\n",
       "      <td>NaN</td>\n",
       "      <td>NaN</td>\n",
       "      <td>NaN</td>\n",
       "      <td>2011.000000</td>\n",
       "      <td>3.400000e+04</td>\n",
       "      <td>NaN</td>\n",
       "      <td>NaN</td>\n",
       "      <td>NaN</td>\n",
       "      <td>15.200000</td>\n",
       "      <td>1198.000000</td>\n",
       "      <td>77.000000</td>\n",
       "      <td>5.000000</td>\n",
       "      <td>3.500000</td>\n",
       "    </tr>\n",
       "    <tr>\n",
       "      <th>50%</th>\n",
       "      <td>NaN</td>\n",
       "      <td>NaN</td>\n",
       "      <td>NaN</td>\n",
       "      <td>2014.000000</td>\n",
       "      <td>5.300000e+04</td>\n",
       "      <td>NaN</td>\n",
       "      <td>NaN</td>\n",
       "      <td>NaN</td>\n",
       "      <td>18.160000</td>\n",
       "      <td>1493.000000</td>\n",
       "      <td>92.700000</td>\n",
       "      <td>5.000000</td>\n",
       "      <td>5.640000</td>\n",
       "    </tr>\n",
       "    <tr>\n",
       "      <th>75%</th>\n",
       "      <td>NaN</td>\n",
       "      <td>NaN</td>\n",
       "      <td>NaN</td>\n",
       "      <td>2016.000000</td>\n",
       "      <td>7.300000e+04</td>\n",
       "      <td>NaN</td>\n",
       "      <td>NaN</td>\n",
       "      <td>NaN</td>\n",
       "      <td>21.100000</td>\n",
       "      <td>1984.000000</td>\n",
       "      <td>138.100000</td>\n",
       "      <td>5.000000</td>\n",
       "      <td>9.975000</td>\n",
       "    </tr>\n",
       "    <tr>\n",
       "      <th>max</th>\n",
       "      <td>NaN</td>\n",
       "      <td>NaN</td>\n",
       "      <td>NaN</td>\n",
       "      <td>2019.000000</td>\n",
       "      <td>6.500000e+06</td>\n",
       "      <td>NaN</td>\n",
       "      <td>NaN</td>\n",
       "      <td>NaN</td>\n",
       "      <td>33.540000</td>\n",
       "      <td>5998.000000</td>\n",
       "      <td>560.000000</td>\n",
       "      <td>8.000000</td>\n",
       "      <td>160.000000</td>\n",
       "    </tr>\n",
       "  </tbody>\n",
       "</table>\n",
       "</div>"
      ],
      "text/plain": [
       "                 Model Company Location         Year  Kilometers_Driven  \\\n",
       "count             6011    6011     6011  6011.000000       6.011000e+03   \n",
       "unique             684      30       11          NaN                NaN   \n",
       "top     Maruti Wagon R  Maruti   Mumbai          NaN                NaN   \n",
       "freq               154    1211      789          NaN                NaN   \n",
       "mean               NaN     NaN      NaN  2013.363833       5.868550e+04   \n",
       "std                NaN     NaN      NaN     3.262842       9.129409e+04   \n",
       "min                NaN     NaN      NaN  1998.000000       1.710000e+02   \n",
       "25%                NaN     NaN      NaN  2011.000000       3.400000e+04   \n",
       "50%                NaN     NaN      NaN  2014.000000       5.300000e+04   \n",
       "75%                NaN     NaN      NaN  2016.000000       7.300000e+04   \n",
       "max                NaN     NaN      NaN  2019.000000       6.500000e+06   \n",
       "\n",
       "       Fuel_Type Transmission Owner_Type      Mileage       Engine  \\\n",
       "count       6011         6011       6011  6011.000000  6011.000000   \n",
       "unique         5            2          4          NaN          NaN   \n",
       "top       Diesel       Manual      First          NaN          NaN   \n",
       "freq        3197         4291       4924          NaN          NaN   \n",
       "mean         NaN          NaN        NaN    18.142748  1620.018965   \n",
       "std          NaN          NaN        NaN     4.576666   600.972020   \n",
       "min          NaN          NaN        NaN     0.000000    72.000000   \n",
       "25%          NaN          NaN        NaN    15.200000  1198.000000   \n",
       "50%          NaN          NaN        NaN    18.160000  1493.000000   \n",
       "75%          NaN          NaN        NaN    21.100000  1984.000000   \n",
       "max          NaN          NaN        NaN    33.540000  5998.000000   \n",
       "\n",
       "              Power        Seats        Price  \n",
       "count   6011.000000  6011.000000  6011.000000  \n",
       "unique          NaN          NaN          NaN  \n",
       "top             NaN          NaN          NaN  \n",
       "freq            NaN          NaN          NaN  \n",
       "mean     112.883196     5.272833     9.486303  \n",
       "std       53.626316     0.791443    11.193759  \n",
       "min       34.200000     2.000000     0.440000  \n",
       "25%       77.000000     5.000000     3.500000  \n",
       "50%       92.700000     5.000000     5.640000  \n",
       "75%      138.100000     5.000000     9.975000  \n",
       "max      560.000000     8.000000   160.000000  "
      ]
     },
     "execution_count": 28,
     "metadata": {},
     "output_type": "execute_result"
    }
   ],
   "source": [
    "car.describe(include='all')"
   ]
  },
  {
   "cell_type": "markdown",
   "metadata": {},
   "source": [
    "### Checking relationship of Company with Price"
   ]
  },
  {
   "cell_type": "code",
   "execution_count": 29,
   "metadata": {},
   "outputs": [
    {
     "data": {
      "text/plain": [
       "array(['Maruti', 'Hyundai', 'Honda', 'Audi', 'Nissan', 'Toyota',\n",
       "       'Volkswagen', 'Tata', 'Land', 'Mitsubishi', 'Renault',\n",
       "       'Mercedes-Benz', 'BMW', 'Mahindra', 'Ford', 'Porsche', 'Datsun',\n",
       "       'Jaguar', 'Volvo', 'Chevrolet', 'Skoda', 'Mini', 'Fiat', 'Jeep',\n",
       "       'Smart', 'Ambassador', 'ISUZU', 'Force', 'Bentley', 'Lamborghini'],\n",
       "      dtype=object)"
      ]
     },
     "execution_count": 29,
     "metadata": {},
     "output_type": "execute_result"
    }
   ],
   "source": [
    "car['Company'].unique()"
   ]
  },
  {
   "cell_type": "code",
   "execution_count": 30,
   "metadata": {},
   "outputs": [
    {
     "data": {
      "text/plain": [
       "array([2010, 2015, 2011, 2012, 2013, 2016, 2018, 2014, 2017, 2007, 2009,\n",
       "       2008, 2019, 2006, 2005, 2004, 2002, 2000, 2003, 1999, 2001, 1998])"
      ]
     },
     "execution_count": 30,
     "metadata": {},
     "output_type": "execute_result"
    }
   ],
   "source": [
    "car['Year'].unique()"
   ]
  },
  {
   "cell_type": "markdown",
   "metadata": {},
   "source": [
    "### Extracting Training Data"
   ]
  },
  {
   "cell_type": "code",
   "execution_count": 31,
   "metadata": {},
   "outputs": [],
   "source": [
    "X=car[['Model','Company','Location','Year','Kilometers_Driven','Fuel_Type','Transmission','Owner_Type','Mileage','Engine','Power','Seats']]\n",
    "y=car['Price']"
   ]
  },
  {
   "cell_type": "code",
   "execution_count": 32,
   "metadata": {},
   "outputs": [
    {
     "data": {
      "text/html": [
       "<div>\n",
       "<style scoped>\n",
       "    .dataframe tbody tr th:only-of-type {\n",
       "        vertical-align: middle;\n",
       "    }\n",
       "\n",
       "    .dataframe tbody tr th {\n",
       "        vertical-align: top;\n",
       "    }\n",
       "\n",
       "    .dataframe thead th {\n",
       "        text-align: right;\n",
       "    }\n",
       "</style>\n",
       "<table border=\"1\" class=\"dataframe\">\n",
       "  <thead>\n",
       "    <tr style=\"text-align: right;\">\n",
       "      <th></th>\n",
       "      <th>Model</th>\n",
       "      <th>Company</th>\n",
       "      <th>Location</th>\n",
       "      <th>Year</th>\n",
       "      <th>Kilometers_Driven</th>\n",
       "      <th>Fuel_Type</th>\n",
       "      <th>Transmission</th>\n",
       "      <th>Owner_Type</th>\n",
       "      <th>Mileage</th>\n",
       "      <th>Engine</th>\n",
       "      <th>Power</th>\n",
       "      <th>Seats</th>\n",
       "    </tr>\n",
       "  </thead>\n",
       "  <tbody>\n",
       "    <tr>\n",
       "      <th>0</th>\n",
       "      <td>Maruti Wagon R</td>\n",
       "      <td>Maruti</td>\n",
       "      <td>Mumbai</td>\n",
       "      <td>2010</td>\n",
       "      <td>72000.0</td>\n",
       "      <td>CNG</td>\n",
       "      <td>Manual</td>\n",
       "      <td>First</td>\n",
       "      <td>26.60</td>\n",
       "      <td>998.0</td>\n",
       "      <td>58.16</td>\n",
       "      <td>5</td>\n",
       "    </tr>\n",
       "    <tr>\n",
       "      <th>1</th>\n",
       "      <td>Hyundai Creta 1.6</td>\n",
       "      <td>Hyundai</td>\n",
       "      <td>Pune</td>\n",
       "      <td>2015</td>\n",
       "      <td>41000.0</td>\n",
       "      <td>Diesel</td>\n",
       "      <td>Manual</td>\n",
       "      <td>First</td>\n",
       "      <td>19.67</td>\n",
       "      <td>1582.0</td>\n",
       "      <td>126.20</td>\n",
       "      <td>5</td>\n",
       "    </tr>\n",
       "    <tr>\n",
       "      <th>2</th>\n",
       "      <td>Honda Jazz V</td>\n",
       "      <td>Honda</td>\n",
       "      <td>Chennai</td>\n",
       "      <td>2011</td>\n",
       "      <td>46000.0</td>\n",
       "      <td>Petrol</td>\n",
       "      <td>Manual</td>\n",
       "      <td>First</td>\n",
       "      <td>18.20</td>\n",
       "      <td>1199.0</td>\n",
       "      <td>88.70</td>\n",
       "      <td>5</td>\n",
       "    </tr>\n",
       "    <tr>\n",
       "      <th>3</th>\n",
       "      <td>Maruti Ertiga VDI</td>\n",
       "      <td>Maruti</td>\n",
       "      <td>Chennai</td>\n",
       "      <td>2012</td>\n",
       "      <td>87000.0</td>\n",
       "      <td>Diesel</td>\n",
       "      <td>Manual</td>\n",
       "      <td>First</td>\n",
       "      <td>20.77</td>\n",
       "      <td>1248.0</td>\n",
       "      <td>88.76</td>\n",
       "      <td>7</td>\n",
       "    </tr>\n",
       "    <tr>\n",
       "      <th>4</th>\n",
       "      <td>Audi A4 New</td>\n",
       "      <td>Audi</td>\n",
       "      <td>Coimbatore</td>\n",
       "      <td>2013</td>\n",
       "      <td>40670.0</td>\n",
       "      <td>Diesel</td>\n",
       "      <td>Automatic</td>\n",
       "      <td>Second</td>\n",
       "      <td>15.20</td>\n",
       "      <td>1968.0</td>\n",
       "      <td>140.80</td>\n",
       "      <td>5</td>\n",
       "    </tr>\n",
       "    <tr>\n",
       "      <th>...</th>\n",
       "      <td>...</td>\n",
       "      <td>...</td>\n",
       "      <td>...</td>\n",
       "      <td>...</td>\n",
       "      <td>...</td>\n",
       "      <td>...</td>\n",
       "      <td>...</td>\n",
       "      <td>...</td>\n",
       "      <td>...</td>\n",
       "      <td>...</td>\n",
       "      <td>...</td>\n",
       "      <td>...</td>\n",
       "    </tr>\n",
       "    <tr>\n",
       "      <th>6006</th>\n",
       "      <td>Maruti Swift VDI</td>\n",
       "      <td>Maruti</td>\n",
       "      <td>Delhi</td>\n",
       "      <td>2014</td>\n",
       "      <td>27365.0</td>\n",
       "      <td>Diesel</td>\n",
       "      <td>Manual</td>\n",
       "      <td>First</td>\n",
       "      <td>28.40</td>\n",
       "      <td>1248.0</td>\n",
       "      <td>74.00</td>\n",
       "      <td>5</td>\n",
       "    </tr>\n",
       "    <tr>\n",
       "      <th>6007</th>\n",
       "      <td>Hyundai Xcent 1.1</td>\n",
       "      <td>Hyundai</td>\n",
       "      <td>Jaipur</td>\n",
       "      <td>2015</td>\n",
       "      <td>100000.0</td>\n",
       "      <td>Diesel</td>\n",
       "      <td>Manual</td>\n",
       "      <td>First</td>\n",
       "      <td>24.40</td>\n",
       "      <td>1120.0</td>\n",
       "      <td>71.00</td>\n",
       "      <td>5</td>\n",
       "    </tr>\n",
       "    <tr>\n",
       "      <th>6008</th>\n",
       "      <td>Mahindra Xylo D4</td>\n",
       "      <td>Mahindra</td>\n",
       "      <td>Jaipur</td>\n",
       "      <td>2012</td>\n",
       "      <td>55000.0</td>\n",
       "      <td>Diesel</td>\n",
       "      <td>Manual</td>\n",
       "      <td>Second</td>\n",
       "      <td>14.00</td>\n",
       "      <td>2498.0</td>\n",
       "      <td>112.00</td>\n",
       "      <td>8</td>\n",
       "    </tr>\n",
       "    <tr>\n",
       "      <th>6009</th>\n",
       "      <td>Maruti Wagon R</td>\n",
       "      <td>Maruti</td>\n",
       "      <td>Kolkata</td>\n",
       "      <td>2013</td>\n",
       "      <td>46000.0</td>\n",
       "      <td>Petrol</td>\n",
       "      <td>Manual</td>\n",
       "      <td>First</td>\n",
       "      <td>18.90</td>\n",
       "      <td>998.0</td>\n",
       "      <td>67.10</td>\n",
       "      <td>5</td>\n",
       "    </tr>\n",
       "    <tr>\n",
       "      <th>6010</th>\n",
       "      <td>Chevrolet Beat Diesel</td>\n",
       "      <td>Chevrolet</td>\n",
       "      <td>Hyderabad</td>\n",
       "      <td>2011</td>\n",
       "      <td>47000.0</td>\n",
       "      <td>Diesel</td>\n",
       "      <td>Manual</td>\n",
       "      <td>First</td>\n",
       "      <td>25.44</td>\n",
       "      <td>936.0</td>\n",
       "      <td>57.60</td>\n",
       "      <td>5</td>\n",
       "    </tr>\n",
       "  </tbody>\n",
       "</table>\n",
       "<p>6011 rows × 12 columns</p>\n",
       "</div>"
      ],
      "text/plain": [
       "                      Model    Company    Location  Year  Kilometers_Driven  \\\n",
       "0            Maruti Wagon R     Maruti      Mumbai  2010            72000.0   \n",
       "1         Hyundai Creta 1.6    Hyundai        Pune  2015            41000.0   \n",
       "2              Honda Jazz V      Honda     Chennai  2011            46000.0   \n",
       "3         Maruti Ertiga VDI     Maruti     Chennai  2012            87000.0   \n",
       "4               Audi A4 New       Audi  Coimbatore  2013            40670.0   \n",
       "...                     ...        ...         ...   ...                ...   \n",
       "6006       Maruti Swift VDI     Maruti       Delhi  2014            27365.0   \n",
       "6007      Hyundai Xcent 1.1    Hyundai      Jaipur  2015           100000.0   \n",
       "6008       Mahindra Xylo D4   Mahindra      Jaipur  2012            55000.0   \n",
       "6009         Maruti Wagon R     Maruti     Kolkata  2013            46000.0   \n",
       "6010  Chevrolet Beat Diesel  Chevrolet   Hyderabad  2011            47000.0   \n",
       "\n",
       "     Fuel_Type Transmission Owner_Type  Mileage  Engine   Power  Seats  \n",
       "0          CNG       Manual      First    26.60   998.0   58.16      5  \n",
       "1       Diesel       Manual      First    19.67  1582.0  126.20      5  \n",
       "2       Petrol       Manual      First    18.20  1199.0   88.70      5  \n",
       "3       Diesel       Manual      First    20.77  1248.0   88.76      7  \n",
       "4       Diesel    Automatic     Second    15.20  1968.0  140.80      5  \n",
       "...        ...          ...        ...      ...     ...     ...    ...  \n",
       "6006    Diesel       Manual      First    28.40  1248.0   74.00      5  \n",
       "6007    Diesel       Manual      First    24.40  1120.0   71.00      5  \n",
       "6008    Diesel       Manual     Second    14.00  2498.0  112.00      8  \n",
       "6009    Petrol       Manual      First    18.90   998.0   67.10      5  \n",
       "6010    Diesel       Manual      First    25.44   936.0   57.60      5  \n",
       "\n",
       "[6011 rows x 12 columns]"
      ]
     },
     "execution_count": 32,
     "metadata": {},
     "output_type": "execute_result"
    }
   ],
   "source": [
    "X"
   ]
  },
  {
   "cell_type": "code",
   "execution_count": 33,
   "metadata": {},
   "outputs": [
    {
     "data": {
      "text/plain": [
       "(6011,)"
      ]
     },
     "execution_count": 33,
     "metadata": {},
     "output_type": "execute_result"
    }
   ],
   "source": [
    "y.shape"
   ]
  },
  {
   "cell_type": "markdown",
   "metadata": {},
   "source": [
    "### Applying Train Test Split"
   ]
  },
  {
   "cell_type": "code",
   "execution_count": 34,
   "metadata": {},
   "outputs": [],
   "source": [
    "from sklearn.model_selection import train_test_split\n",
    "X_train,X_test,y_train,y_test=train_test_split(X,y,test_size=0.2,random_state=25)"
   ]
  },
  {
   "cell_type": "code",
   "execution_count": 35,
   "metadata": {},
   "outputs": [],
   "source": [
    "from sklearn.ensemble import RandomForestRegressor"
   ]
  },
  {
   "cell_type": "code",
   "execution_count": 36,
   "metadata": {},
   "outputs": [],
   "source": [
    "from sklearn.preprocessing import OneHotEncoder\n",
    "from sklearn.compose import make_column_transformer\n",
    "from sklearn.pipeline import make_pipeline\n",
    "from sklearn.metrics import r2_score"
   ]
  },
  {
   "cell_type": "markdown",
   "metadata": {},
   "source": [
    "#### Creating an OneHotEncoder object to contain all the possible categories"
   ]
  },
  {
   "cell_type": "code",
   "execution_count": 37,
   "metadata": {},
   "outputs": [
    {
     "data": {
      "text/plain": [
       "OneHotEncoder(handle_unknown='ignore')"
      ]
     },
     "execution_count": 37,
     "metadata": {},
     "output_type": "execute_result"
    }
   ],
   "source": [
    "ohe=OneHotEncoder(handle_unknown = 'ignore')\n",
    "ohe.fit(X[['Model','Company','Location','Year','Kilometers_Driven','Fuel_Type','Transmission','Owner_Type','Mileage','Engine','Power','Seats']])"
   ]
  },
  {
   "cell_type": "markdown",
   "metadata": {},
   "source": [
    "#### Creating a column transformer to transform categorical columns"
   ]
  },
  {
   "cell_type": "code",
   "execution_count": 38,
   "metadata": {},
   "outputs": [],
   "source": [
    "column_trans=make_column_transformer((OneHotEncoder(categories=ohe.categories_),['Model','Company','Location','Year','Kilometers_Driven','Fuel_Type','Transmission','Owner_Type','Mileage','Engine','Power','Seats']),\n",
    "                                    remainder='passthrough')"
   ]
  },
  {
   "cell_type": "markdown",
   "metadata": {},
   "source": [
    "#### Linear Regression Model"
   ]
  },
  {
   "cell_type": "code",
   "execution_count": 39,
   "metadata": {},
   "outputs": [],
   "source": [
    "rf_reg = RandomForestRegressor()"
   ]
  },
  {
   "cell_type": "markdown",
   "metadata": {},
   "source": [
    "#### Making a pipeline"
   ]
  },
  {
   "cell_type": "code",
   "execution_count": 40,
   "metadata": {},
   "outputs": [],
   "source": [
    "pipe=make_pipeline(column_trans,rf_reg)"
   ]
  },
  {
   "cell_type": "markdown",
   "metadata": {},
   "source": [
    "#### Fitting the  model"
   ]
  },
  {
   "cell_type": "code",
   "execution_count": 41,
   "metadata": {
    "scrolled": true
   },
   "outputs": [
    {
     "data": {
      "text/plain": [
       "Pipeline(steps=[('columntransformer',\n",
       "                 ColumnTransformer(remainder='passthrough',\n",
       "                                   transformers=[('onehotencoder',\n",
       "                                                  OneHotEncoder(categories=[array(['Ambassador Classic Nova', 'Audi A3 35', 'Audi A4 1.8',\n",
       "       'Audi A4 2.0', 'Audi A4 3.0', 'Audi A4 3.2', 'Audi A4 30',\n",
       "       'Audi A4 35', 'Audi A4 New', 'Audi A6 2.0', 'Audi A6 2.7',\n",
       "       'Audi A6 2.8', 'Audi A6 2011-2015', 'Audi A6 3.0', 'Audi A6 35',\n",
       "       'Audi A7 2011-2...\n",
       "       308.43 , 313.   , 320.   , 321.   , 333.   , 335.2  , 335.3  ,\n",
       "       340.   , 362.07 , 362.9  , 364.9  , 367.   , 382.   , 387.3  ,\n",
       "       394.3  , 395.   , 402.   , 421.   , 444.   , 450.   , 488.1  ,\n",
       "       500.   , 503.   , 550.   , 552.   , 560.   ]),\n",
       "                                                                            array([2, 4, 5, 6, 7, 8])]),\n",
       "                                                  ['Model', 'Company',\n",
       "                                                   'Location', 'Year',\n",
       "                                                   'Kilometers_Driven',\n",
       "                                                   'Fuel_Type', 'Transmission',\n",
       "                                                   'Owner_Type', 'Mileage',\n",
       "                                                   'Engine', 'Power',\n",
       "                                                   'Seats'])])),\n",
       "                ('randomforestregressor', RandomForestRegressor())])"
      ]
     },
     "execution_count": 41,
     "metadata": {},
     "output_type": "execute_result"
    }
   ],
   "source": [
    "pipe.fit(X_train,y_train)"
   ]
  },
  {
   "cell_type": "code",
   "execution_count": 42,
   "metadata": {},
   "outputs": [],
   "source": [
    "y_pred=pipe.predict(X_test)"
   ]
  },
  {
   "cell_type": "markdown",
   "metadata": {},
   "source": [
    "#### Checking R2 Score"
   ]
  },
  {
   "cell_type": "code",
   "execution_count": 43,
   "metadata": {},
   "outputs": [
    {
     "data": {
      "text/plain": [
       "0.8404195190326719"
      ]
     },
     "execution_count": 43,
     "metadata": {},
     "output_type": "execute_result"
    }
   ],
   "source": [
    "r2_score(y_test,y_pred)"
   ]
  },
  {
   "cell_type": "markdown",
   "metadata": {},
   "source": [
    "#### Finding the model with a random state of TrainTestSplit where the model was found to give almost 0.92 as r2_score"
   ]
  },
  {
   "cell_type": "code",
   "execution_count": 44,
   "metadata": {},
   "outputs": [],
   "source": [
    "scores=[]\n",
    "for i in range(25):\n",
    "    X_train,X_test,y_train,y_test=train_test_split(X,y,test_size=0.1,random_state=i)\n",
    "    rf_reg = RandomForestRegressor()\n",
    "    pipe=make_pipeline(column_trans,rf_reg)\n",
    "    pipe.fit(X_train,y_train)\n",
    "    y_pred=pipe.predict(X_test)\n",
    "    scores.append(r2_score(y_test,y_pred))"
   ]
  },
  {
   "cell_type": "code",
   "execution_count": 45,
   "metadata": {},
   "outputs": [
    {
     "data": {
      "text/plain": [
       "23"
      ]
     },
     "execution_count": 45,
     "metadata": {},
     "output_type": "execute_result"
    }
   ],
   "source": [
    "np.argmax(scores)"
   ]
  },
  {
   "cell_type": "code",
   "execution_count": 46,
   "metadata": {},
   "outputs": [
    {
     "data": {
      "text/plain": [
       "0.8891464111395346"
      ]
     },
     "execution_count": 46,
     "metadata": {},
     "output_type": "execute_result"
    }
   ],
   "source": [
    "scores[np.argmax(scores)]"
   ]
  },
  {
   "cell_type": "markdown",
   "metadata": {},
   "source": [
    "#### The best model is found at a certain random state "
   ]
  },
  {
   "cell_type": "code",
   "execution_count": 47,
   "metadata": {},
   "outputs": [],
   "source": [
    "import pickle"
   ]
  },
  {
   "cell_type": "code",
   "execution_count": 48,
   "metadata": {},
   "outputs": [],
   "source": [
    "pickle.dump(pipe,open('RandomForestRegressorModel.pkl','wb'))"
   ]
  },
  {
   "cell_type": "code",
   "execution_count": 49,
   "metadata": {},
   "outputs": [
    {
     "data": {
      "text/plain": [
       "array([1.9651])"
      ]
     },
     "execution_count": 49,
     "metadata": {},
     "output_type": "execute_result"
    }
   ],
   "source": [
    "pipe.predict(pd.DataFrame([['Maruti Wagon R','Maruti','Mumbai',2010,72000,'CNG','Manual','First',26.6,998,58.16,5]], columns=['Model','Company','Location','Year','Kilometers_Driven','Fuel_Type','Transmission','Owner_Type','Mileage','Engine','Power','Seats']))"
   ]
  },
  {
   "cell_type": "code",
   "execution_count": 50,
   "metadata": {},
   "outputs": [
    {
     "data": {
      "text/plain": [
       "array(['Ambassador Classic Nova', 'Audi A3 35', 'Audi A4 1.8',\n",
       "       'Audi A4 2.0', 'Audi A4 3.0', 'Audi A4 3.2', 'Audi A4 30',\n",
       "       'Audi A4 35', 'Audi A4 New', 'Audi A6 2.0', 'Audi A6 2.7',\n",
       "       'Audi A6 2.8', 'Audi A6 2011-2015', 'Audi A6 3.0', 'Audi A6 35',\n",
       "       'Audi A7 2011-2015', 'Audi A8 L', 'Audi Q3 2.0',\n",
       "       'Audi Q3 2012-2015', 'Audi Q3 30', 'Audi Q3 35', 'Audi Q5 2.0',\n",
       "       'Audi Q5 2008-2012', 'Audi Q5 3.0', 'Audi Q5 30', 'Audi Q7 3.0',\n",
       "       'Audi Q7 35', 'Audi Q7 4.2', 'Audi Q7 45', 'Audi RS5 Coupe',\n",
       "       'Audi TT 2.0', 'Audi TT 40', 'BMW 1 Series', 'BMW 3 Series',\n",
       "       'BMW 5 Series', 'BMW 6 Series', 'BMW 7 Series', 'BMW X1 M',\n",
       "       'BMW X1 sDrive', 'BMW X1 sDrive20d', 'BMW X1 xDrive',\n",
       "       'BMW X3 xDrive', 'BMW X3 xDrive20d', 'BMW X3 xDrive30d',\n",
       "       'BMW X5 2014-2019', 'BMW X5 3.0d', 'BMW X5 X5', 'BMW X5 xDrive',\n",
       "       'BMW X6 xDrive', 'BMW X6 xDrive30d', 'BMW Z4 2009-2013',\n",
       "       'Bentley Continental Flying', 'Chevrolet Aveo 1.4',\n",
       "       'Chevrolet Aveo 1.6', 'Chevrolet Aveo U-VA',\n",
       "       'Chevrolet Beat Diesel', 'Chevrolet Beat LS', 'Chevrolet Beat LT',\n",
       "       'Chevrolet Beat Option', 'Chevrolet Captiva LT',\n",
       "       'Chevrolet Captiva LTZ', 'Chevrolet Cruze LTZ',\n",
       "       'Chevrolet Enjoy 1.3', 'Chevrolet Enjoy 1.4',\n",
       "       'Chevrolet Enjoy Petrol', 'Chevrolet Enjoy TCDi',\n",
       "       'Chevrolet Optra 1.6', 'Chevrolet Optra Magnum',\n",
       "       'Chevrolet Sail 1.2', 'Chevrolet Sail Hatchback',\n",
       "       'Chevrolet Sail LT', 'Chevrolet Spark 1.0', 'Datsun GO NXT',\n",
       "       'Datsun GO Plus', 'Datsun GO T', 'Datsun Redi GO',\n",
       "       'Datsun redi-GO S', 'Datsun redi-GO T', 'Fiat Avventura MULTIJET',\n",
       "       'Fiat Grande Punto', 'Fiat Linea 1.3', 'Fiat Linea Classic',\n",
       "       'Fiat Linea Emotion', 'Fiat Linea T', 'Fiat Linea T-Jet',\n",
       "       'Fiat Petra 1.2', 'Fiat Punto 1.2', 'Fiat Punto 1.3',\n",
       "       'Fiat Punto 1.4', 'Fiat Punto EVO', 'Fiat Siena 1.2',\n",
       "       'Force One LX', 'Ford Aspire Ambiente', 'Ford Aspire Titanium',\n",
       "       'Ford Classic 1.4', 'Ford EcoSport 1.0', 'Ford EcoSport 1.5',\n",
       "       'Ford Ecosport 1.0', 'Ford Ecosport 1.5',\n",
       "       'Ford Ecosport Signature', 'Ford Endeavour 2.2',\n",
       "       'Ford Endeavour 2.5L', 'Ford Endeavour 3.0L', 'Ford Endeavour 3.2',\n",
       "       'Ford Endeavour 4x2', 'Ford Endeavour Hurricane',\n",
       "       'Ford Endeavour Titanium', 'Ford Endeavour XLT', 'Ford Fiesta 1.4',\n",
       "       'Ford Fiesta 1.5', 'Ford Fiesta 1.6', 'Ford Fiesta Classic',\n",
       "       'Ford Fiesta Diesel', 'Ford Fiesta EXi', 'Ford Fiesta Titanium',\n",
       "       'Ford Figo 1.2P', 'Ford Figo 1.5D', 'Ford Figo 2015-2019',\n",
       "       'Ford Figo Aspire', 'Ford Figo Diesel', 'Ford Figo Petrol',\n",
       "       'Ford Figo Titanium', 'Ford Freestyle Titanium',\n",
       "       'Ford Fusion Plus', 'Ford Ikon 1.3', 'Ford Ikon 1.4',\n",
       "       'Ford Ikon 1.6', 'Ford Mustang V8', 'Honda Accord 2.4',\n",
       "       'Honda Accord 2001-2003', 'Honda Accord V6', 'Honda Accord VTi-L',\n",
       "       'Honda Amaze E', 'Honda Amaze EX', 'Honda Amaze S',\n",
       "       'Honda Amaze SX', 'Honda Amaze V', 'Honda Amaze VX',\n",
       "       'Honda BR-V i-DTEC', 'Honda BR-V i-VTEC', 'Honda BRV i-VTEC',\n",
       "       'Honda Brio 1.2', 'Honda Brio E', 'Honda Brio EX', 'Honda Brio S',\n",
       "       'Honda Brio V', 'Honda Brio VX', 'Honda CR-V 2.0',\n",
       "       'Honda CR-V 2.0L', 'Honda CR-V 2.4', 'Honda CR-V 2.4L',\n",
       "       'Honda CR-V AT', 'Honda CR-V Petrol', 'Honda CR-V RVi',\n",
       "       'Honda CR-V Sport', 'Honda City 1.3', 'Honda City 1.5',\n",
       "       'Honda City Corporate', 'Honda City V', 'Honda City ZX',\n",
       "       'Honda City i', 'Honda City i-DTEC', 'Honda City i-VTEC',\n",
       "       'Honda Civic 2006-2010', 'Honda Civic 2010-2013', 'Honda Jazz 1.2',\n",
       "       'Honda Jazz 1.5', 'Honda Jazz Active', 'Honda Jazz Exclusive',\n",
       "       'Honda Jazz Mode', 'Honda Jazz S', 'Honda Jazz Select',\n",
       "       'Honda Jazz V', 'Honda Jazz VX', 'Honda Mobilio E',\n",
       "       'Honda Mobilio RS', 'Honda Mobilio S', 'Honda Mobilio V',\n",
       "       'Honda WR-V Edge', 'Honda WRV i-VTEC', 'Hyundai Accent CRDi',\n",
       "       'Hyundai Accent Executive', 'Hyundai Accent GLE',\n",
       "       'Hyundai Accent GLS', 'Hyundai Creta 1.4', 'Hyundai Creta 1.6',\n",
       "       'Hyundai EON 1.0', 'Hyundai EON D', 'Hyundai EON Era',\n",
       "       'Hyundai EON LPG', 'Hyundai EON Magna', 'Hyundai EON Sportz',\n",
       "       'Hyundai Elantra 1.6', 'Hyundai Elantra 2.0',\n",
       "       'Hyundai Elantra CRDi', 'Hyundai Elantra SX', 'Hyundai Elite i20',\n",
       "       'Hyundai Getz 1.3', 'Hyundai Getz 1.5', 'Hyundai Getz GLE',\n",
       "       'Hyundai Getz GLS', 'Hyundai Getz GVS', 'Hyundai Grand i10',\n",
       "       'Hyundai Santa Fe', 'Hyundai Santro AT', 'Hyundai Santro D',\n",
       "       'Hyundai Santro DX', 'Hyundai Santro GLS', 'Hyundai Santro GS',\n",
       "       'Hyundai Santro LP', 'Hyundai Santro LS', 'Hyundai Santro Xing',\n",
       "       'Hyundai Sonata 2.4', 'Hyundai Sonata Embera',\n",
       "       'Hyundai Sonata GOLD', 'Hyundai Sonata Transform',\n",
       "       'Hyundai Tucson 2.0', 'Hyundai Tucson CRDi', 'Hyundai Verna 1.4',\n",
       "       'Hyundai Verna 1.6', 'Hyundai Verna CRDi', 'Hyundai Verna SX',\n",
       "       'Hyundai Verna Transform', 'Hyundai Verna VTVT',\n",
       "       'Hyundai Verna XXi', 'Hyundai Verna Xi', 'Hyundai Xcent 1.1',\n",
       "       'Hyundai Xcent 1.2', 'Hyundai i10 Asta', 'Hyundai i10 Era',\n",
       "       'Hyundai i10 Magna', 'Hyundai i10 Magna(O)', 'Hyundai i10 Sportz',\n",
       "       'Hyundai i20 1.2', 'Hyundai i20 1.4', 'Hyundai i20 2015-2017',\n",
       "       'Hyundai i20 Active', 'Hyundai i20 Asta', 'Hyundai i20 Diesel',\n",
       "       'Hyundai i20 Era', 'Hyundai i20 Magna', 'Hyundai i20 Sportz',\n",
       "       'ISUZU D-MAX V-Cross', 'ISUZU MUX 4WD', 'Jaguar F Type',\n",
       "       'Jaguar XE 2.0L', 'Jaguar XE Portfolio', 'Jaguar XF 2.0',\n",
       "       'Jaguar XF 2.2', 'Jaguar XF 3.0', 'Jaguar XF Aero',\n",
       "       'Jaguar XF Diesel', 'Jaguar XJ 2.0L', 'Jaguar XJ 3.0L',\n",
       "       'Jaguar XJ 5.0', 'Jeep Compass 1.4', 'Jeep Compass 2.0',\n",
       "       'Lamborghini Gallardo Coupe', 'Land Rover Discovery',\n",
       "       'Land Rover Freelander', 'Land Rover Range', 'Mahindra Bolero DI',\n",
       "       'Mahindra Bolero SLE', 'Mahindra Bolero SLX',\n",
       "       'Mahindra Bolero VLX', 'Mahindra Bolero ZLX',\n",
       "       'Mahindra Bolero mHAWK', 'Mahindra E Verito', 'Mahindra Jeep MM',\n",
       "       'Mahindra KUV 100', 'Mahindra Logan Diesel',\n",
       "       'Mahindra Logan Petrol', 'Mahindra NuvoSport N6',\n",
       "       'Mahindra NuvoSport N8', 'Mahindra Quanto C2',\n",
       "       'Mahindra Quanto C4', 'Mahindra Quanto C6', 'Mahindra Quanto C8',\n",
       "       'Mahindra Renault Logan', 'Mahindra Scorpio 1.99',\n",
       "       'Mahindra Scorpio 2.6', 'Mahindra Scorpio 2009-2014',\n",
       "       'Mahindra Scorpio DX', 'Mahindra Scorpio LX',\n",
       "       'Mahindra Scorpio S10', 'Mahindra Scorpio S2',\n",
       "       'Mahindra Scorpio S4', 'Mahindra Scorpio S6',\n",
       "       'Mahindra Scorpio S8', 'Mahindra Scorpio SLE',\n",
       "       'Mahindra Scorpio SLX', 'Mahindra Scorpio VLX',\n",
       "       'Mahindra Ssangyong Rexton', 'Mahindra TUV 300',\n",
       "       'Mahindra Thar CRDe', 'Mahindra Thar DI', 'Mahindra Verito 1.5',\n",
       "       'Mahindra XUV300 W8', 'Mahindra XUV500 AT', 'Mahindra XUV500 W10',\n",
       "       'Mahindra XUV500 W4', 'Mahindra XUV500 W6', 'Mahindra XUV500 W7',\n",
       "       'Mahindra XUV500 W8', 'Mahindra XUV500 W9', 'Mahindra Xylo D2',\n",
       "       'Mahindra Xylo D4', 'Mahindra Xylo E2', 'Mahindra Xylo E4',\n",
       "       'Mahindra Xylo E8', 'Mahindra Xylo H4', 'Maruti 1000 AC',\n",
       "       'Maruti 800 AC', 'Maruti 800 DX', 'Maruti 800 Std',\n",
       "       'Maruti A-Star AT', 'Maruti A-Star Lxi', 'Maruti A-Star Vxi',\n",
       "       'Maruti Alto 800', 'Maruti Alto Green', 'Maruti Alto K10',\n",
       "       'Maruti Alto LX', 'Maruti Alto LXI', 'Maruti Alto LXi',\n",
       "       'Maruti Alto Std', 'Maruti Alto VXi', 'Maruti Alto Vxi',\n",
       "       'Maruti Baleno Alpha', 'Maruti Baleno Delta', 'Maruti Baleno LXI',\n",
       "       'Maruti Baleno RS', 'Maruti Baleno Sigma', 'Maruti Baleno Vxi',\n",
       "       'Maruti Baleno Zeta', 'Maruti Celerio CNG', 'Maruti Celerio LDi',\n",
       "       'Maruti Celerio LXI', 'Maruti Celerio VXI', 'Maruti Celerio ZDi',\n",
       "       'Maruti Celerio ZXI', 'Maruti Ciaz 1.3', 'Maruti Ciaz 1.4',\n",
       "       'Maruti Ciaz AT', 'Maruti Ciaz Alpha', 'Maruti Ciaz RS',\n",
       "       'Maruti Ciaz VDI', 'Maruti Ciaz VDi', 'Maruti Ciaz VXi',\n",
       "       'Maruti Ciaz ZDi', 'Maruti Ciaz ZXi', 'Maruti Ciaz Zeta',\n",
       "       'Maruti Dzire AMT', 'Maruti Dzire LDI', 'Maruti Dzire New',\n",
       "       'Maruti Dzire VDI', 'Maruti Dzire VXI', 'Maruti Dzire ZDI',\n",
       "       'Maruti Eeco 5', 'Maruti Eeco 7', 'Maruti Eeco CNG',\n",
       "       'Maruti Eeco Smiles', 'Maruti Ertiga LXI', 'Maruti Ertiga Paseo',\n",
       "       'Maruti Ertiga SHVS', 'Maruti Ertiga VDI', 'Maruti Ertiga VXI',\n",
       "       'Maruti Ertiga ZDI', 'Maruti Ertiga ZXI', 'Maruti Esteem LX',\n",
       "       'Maruti Esteem Vxi', 'Maruti Estilo LXI', 'Maruti Grand Vitara',\n",
       "       'Maruti Ignis 1.2', 'Maruti Ignis 1.3', 'Maruti Omni 5',\n",
       "       'Maruti Omni 8', 'Maruti Omni E', 'Maruti Omni MPI',\n",
       "       'Maruti Ritz AT', 'Maruti Ritz LDi', 'Maruti Ritz LXI',\n",
       "       'Maruti Ritz LXi', 'Maruti Ritz VDI', 'Maruti Ritz VDi',\n",
       "       'Maruti Ritz VXI', 'Maruti Ritz VXi', 'Maruti Ritz ZDi',\n",
       "       'Maruti Ritz ZXI', 'Maruti Ritz ZXi', 'Maruti S Cross',\n",
       "       'Maruti S-Cross Alpha', 'Maruti S-Cross Delta',\n",
       "       'Maruti S-Cross Zeta', 'Maruti SX4 Green', 'Maruti SX4 S',\n",
       "       'Maruti SX4 VDI', 'Maruti SX4 Vxi', 'Maruti SX4 ZDI',\n",
       "       'Maruti SX4 ZXI', 'Maruti SX4 Zxi', 'Maruti Swift 1.3',\n",
       "       'Maruti Swift AMT', 'Maruti Swift DDiS', 'Maruti Swift Dzire',\n",
       "       'Maruti Swift LDI', 'Maruti Swift LXI', 'Maruti Swift LXi',\n",
       "       'Maruti Swift Ldi', 'Maruti Swift Lxi', 'Maruti Swift RS',\n",
       "       'Maruti Swift VDI', 'Maruti Swift VDi', 'Maruti Swift VVT',\n",
       "       'Maruti Swift VXI', 'Maruti Swift VXi', 'Maruti Swift Vdi',\n",
       "       'Maruti Swift ZDI', 'Maruti Swift ZDi', 'Maruti Swift ZXI',\n",
       "       'Maruti Versa DX2', 'Maruti Vitara Brezza', 'Maruti Wagon R',\n",
       "       'Maruti Zen Estilo', 'Maruti Zen LX', 'Maruti Zen LXI',\n",
       "       'Maruti Zen LXi', 'Maruti Zen VX', 'Maruti Zen VXI',\n",
       "       'Maruti Zen VXi', 'Mercedes-Benz A Class', 'Mercedes-Benz B Class',\n",
       "       'Mercedes-Benz C-Class Progressive', 'Mercedes-Benz CLA 200',\n",
       "       'Mercedes-Benz CLS-Class 2006-2010', 'Mercedes-Benz E-Class 200',\n",
       "       'Mercedes-Benz E-Class 2009-2013',\n",
       "       'Mercedes-Benz E-Class 2015-2017', 'Mercedes-Benz E-Class 220',\n",
       "       'Mercedes-Benz E-Class 230', 'Mercedes-Benz E-Class 250',\n",
       "       'Mercedes-Benz E-Class 280', 'Mercedes-Benz E-Class E',\n",
       "       'Mercedes-Benz E-Class E250', 'Mercedes-Benz E-Class E270',\n",
       "       'Mercedes-Benz E-Class E350', 'Mercedes-Benz E-Class E400',\n",
       "       'Mercedes-Benz E-Class Facelift', 'Mercedes-Benz GL-Class 2007',\n",
       "       'Mercedes-Benz GL-Class 350', 'Mercedes-Benz GLA Class',\n",
       "       'Mercedes-Benz GLC 220', 'Mercedes-Benz GLC 220d',\n",
       "       'Mercedes-Benz GLC 43', 'Mercedes-Benz GLE 250d',\n",
       "       'Mercedes-Benz GLE 350d', 'Mercedes-Benz GLS 350d',\n",
       "       'Mercedes-Benz M-Class ML', 'Mercedes-Benz New C-Class',\n",
       "       'Mercedes-Benz R-Class R350', 'Mercedes-Benz S Class',\n",
       "       'Mercedes-Benz S-Class 280', 'Mercedes-Benz S-Class 320',\n",
       "       'Mercedes-Benz S-Class S', 'Mercedes-Benz SL-Class SL',\n",
       "       'Mercedes-Benz SLC 43', 'Mercedes-Benz SLK-Class 55',\n",
       "       'Mercedes-Benz SLK-Class SLK', 'Mini Clubman Cooper',\n",
       "       'Mini Cooper 3', 'Mini Cooper 5', 'Mini Cooper Convertible',\n",
       "       'Mini Cooper Countryman', 'Mini Cooper S',\n",
       "       'Mini Countryman Cooper', 'Mitsubishi Cedia Sports',\n",
       "       'Mitsubishi Lancer 1.5', 'Mitsubishi Lancer GLXD',\n",
       "       'Mitsubishi Montero 3.2', 'Mitsubishi Outlander 2.4',\n",
       "       'Mitsubishi Pajero 2.8', 'Mitsubishi Pajero 4X4',\n",
       "       'Mitsubishi Pajero Sport', 'Nissan Evalia 2013',\n",
       "       'Nissan Micra Active', 'Nissan Micra Diesel', 'Nissan Micra XE',\n",
       "       'Nissan Micra XL', 'Nissan Micra XV', 'Nissan Sunny 2011-2014',\n",
       "       'Nissan Sunny Diesel', 'Nissan Sunny XE', 'Nissan Sunny XL',\n",
       "       'Nissan Sunny XV', 'Nissan Teana 230jM', 'Nissan Teana XV',\n",
       "       'Nissan Terrano XL', 'Nissan Terrano XV', 'Nissan X-Trail SLX',\n",
       "       'Porsche Boxster S', 'Porsche Cayenne 2009-2014',\n",
       "       'Porsche Cayenne Base', 'Porsche Cayenne Diesel',\n",
       "       'Porsche Cayenne S', 'Porsche Cayenne Turbo',\n",
       "       'Porsche Cayman 2009-2012', 'Porsche Panamera 2010',\n",
       "       'Porsche Panamera Diesel', 'Renault Captur 1.5',\n",
       "       'Renault Duster 110PS', 'Renault Duster 85PS',\n",
       "       'Renault Duster Adventure', 'Renault Duster Petrol',\n",
       "       'Renault Duster RXZ', 'Renault Fluence 1.5', 'Renault Fluence 2.0',\n",
       "       'Renault Fluence Diesel', 'Renault KWID 1.0', 'Renault KWID AMT',\n",
       "       'Renault KWID Climber', 'Renault KWID RXL', 'Renault KWID RXT',\n",
       "       'Renault Koleos 2.0', 'Renault Lodgy 110PS',\n",
       "       'Renault Pulse Petrol', 'Renault Pulse RxL',\n",
       "       'Renault Scala Diesel', 'Renault Scala RxL', 'Skoda Fabia 1.2',\n",
       "       'Skoda Fabia 1.2L', 'Skoda Fabia 1.4', 'Skoda Fabia 1.6',\n",
       "       'Skoda Laura 1.8', 'Skoda Laura 1.9', 'Skoda Laura Ambiente',\n",
       "       'Skoda Laura Ambition', 'Skoda Laura Classic',\n",
       "       'Skoda Laura Elegance', 'Skoda Laura L', 'Skoda Laura RS',\n",
       "       'Skoda Octavia 1.9', 'Skoda Octavia 2.0', 'Skoda Octavia Ambiente',\n",
       "       'Skoda Octavia Ambition', 'Skoda Octavia Classic',\n",
       "       'Skoda Octavia Elegance', 'Skoda Octavia L', 'Skoda Octavia RS',\n",
       "       'Skoda Octavia Rider', 'Skoda Octavia Style', 'Skoda Rapid 1.5',\n",
       "       'Skoda Rapid 1.6', 'Skoda Rapid 2013-2016', 'Skoda Rapid Leisure',\n",
       "       'Skoda Rapid Ultima', 'Skoda Superb 1.8', 'Skoda Superb 2.5',\n",
       "       'Skoda Superb 2.8', 'Skoda Superb 2009-2014', 'Skoda Superb 3.6',\n",
       "       'Skoda Superb Ambition', 'Skoda Superb Elegance',\n",
       "       'Skoda Superb L&K', 'Skoda Superb Style', 'Skoda Yeti Ambition',\n",
       "       'Skoda Yeti Elegance', 'Smart Fortwo CDI', 'Tata Bolt Quadrajet',\n",
       "       'Tata Bolt Revotron', 'Tata Hexa XT', 'Tata Hexa XTA',\n",
       "       'Tata Indica DLS', 'Tata Indica GLS', 'Tata Indica LEI',\n",
       "       'Tata Indica V2', 'Tata Indica Vista', 'Tata Indigo CS',\n",
       "       'Tata Indigo GLE', 'Tata Indigo LS', 'Tata Indigo LX',\n",
       "       'Tata Indigo XL', 'Tata Indigo eCS', 'Tata Manza Aqua',\n",
       "       'Tata Manza Aura', 'Tata Manza Club', 'Tata Manza ELAN',\n",
       "       'Tata Nano CX', 'Tata Nano Cx', 'Tata Nano LX', 'Tata Nano Lx',\n",
       "       'Tata Nano STD', 'Tata Nano Twist', 'Tata Nano XT',\n",
       "       'Tata Nano XTA', 'Tata New Safari', 'Tata Nexon 1.2',\n",
       "       'Tata Nexon 1.5', 'Tata Safari DICOR', 'Tata Safari Storme',\n",
       "       'Tata Sumo Delux', 'Tata Sumo EX', 'Tata Tiago 1.2',\n",
       "       'Tata Tiago AMT', 'Tata Tiago Wizz', 'Tata Tigor 1.05',\n",
       "       'Tata Tigor 1.2', 'Tata Tigor XE', 'Tata Venture EX',\n",
       "       'Tata Xenon XT', 'Tata Zest Quadrajet', 'Tata Zest Revotron',\n",
       "       'Toyota Camry 2.5', 'Toyota Camry A/T', 'Toyota Camry Hybrid',\n",
       "       'Toyota Camry W2', 'Toyota Camry W4', 'Toyota Corolla 1.8',\n",
       "       'Toyota Corolla Altis', 'Toyota Corolla DX',\n",
       "       'Toyota Corolla Executive', 'Toyota Corolla H2',\n",
       "       'Toyota Corolla H4', 'Toyota Corolla H5', 'Toyota Etios 1.4',\n",
       "       'Toyota Etios Cross', 'Toyota Etios G', 'Toyota Etios GD',\n",
       "       'Toyota Etios Liva', 'Toyota Etios Petrol', 'Toyota Etios V',\n",
       "       'Toyota Etios VD', 'Toyota Etios VX', 'Toyota Etios VXD',\n",
       "       'Toyota Fortuner 2.8', 'Toyota Fortuner 3.0',\n",
       "       'Toyota Fortuner 4x2', 'Toyota Fortuner 4x4',\n",
       "       'Toyota Fortuner TRD', 'Toyota Innova 2.0', 'Toyota Innova 2.5',\n",
       "       'Toyota Innova Crysta', 'Toyota Platinum Etios',\n",
       "       'Toyota Prius 2009-2016', 'Toyota Qualis Fleet',\n",
       "       'Volkswagen Ameo 1.2', 'Volkswagen Ameo 1.5',\n",
       "       'Volkswagen Beetle 2.0', 'Volkswagen CrossPolo 1.5',\n",
       "       'Volkswagen Jetta 2007-2011', 'Volkswagen Jetta 2012-2014',\n",
       "       'Volkswagen Jetta 2013-2015', 'Volkswagen Passat 1.8',\n",
       "       'Volkswagen Passat 2.0', 'Volkswagen Passat Diesel',\n",
       "       'Volkswagen Passat Highline', 'Volkswagen Polo 1.0',\n",
       "       'Volkswagen Polo 1.2', 'Volkswagen Polo 1.5',\n",
       "       'Volkswagen Polo Diesel', 'Volkswagen Polo GT',\n",
       "       'Volkswagen Polo GTI', 'Volkswagen Polo IPL',\n",
       "       'Volkswagen Polo Petrol', 'Volkswagen Tiguan 2.0',\n",
       "       'Volkswagen Vento 1.2', 'Volkswagen Vento 1.5',\n",
       "       'Volkswagen Vento 1.6', 'Volkswagen Vento 2013-2015',\n",
       "       'Volkswagen Vento Diesel', 'Volkswagen Vento IPL',\n",
       "       'Volkswagen Vento Konekt', 'Volkswagen Vento Magnific',\n",
       "       'Volkswagen Vento Petrol', 'Volkswagen Vento Sport',\n",
       "       'Volkswagen Vento TSI', 'Volvo S60 D3', 'Volvo S60 D4',\n",
       "       'Volvo S60 D5', 'Volvo S80 2006-2013', 'Volvo S80 D5',\n",
       "       'Volvo V40 Cross', 'Volvo V40 D3', 'Volvo XC60 D4',\n",
       "       'Volvo XC60 D5', 'Volvo XC90 2007-2015'], dtype=object)"
      ]
     },
     "execution_count": 50,
     "metadata": {},
     "output_type": "execute_result"
    }
   ],
   "source": [
    "pipe.steps[0][1].transformers[0][1].categories[0]"
   ]
  }
 ],
 "metadata": {
  "interpreter": {
   "hash": "e8432d43ded818f17180107571859d315e5329e8f2b533f667cc5984f07ee19a"
  },
  "kernelspec": {
   "display_name": "Python 3.9.2 64-bit",
   "name": "python3"
  },
  "language_info": {
   "codemirror_mode": {
    "name": "ipython",
    "version": 3
   },
   "file_extension": ".py",
   "mimetype": "text/x-python",
   "name": "python",
   "nbconvert_exporter": "python",
   "pygments_lexer": "ipython3",
   "version": "3.9.2"
  },
  "metadata": {
   "interpreter": {
    "hash": "e8432d43ded818f17180107571859d315e5329e8f2b533f667cc5984f07ee19a"
   }
  }
 },
 "nbformat": 4,
 "nbformat_minor": 2
}
